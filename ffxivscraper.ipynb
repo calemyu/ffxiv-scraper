{
 "cells": [
  {
   "cell_type": "code",
   "execution_count": null,
   "id": "47dcaf12",
   "metadata": {},
   "outputs": [
    {
     "name": "stdout",
     "output_type": "stream",
     "text": [
      "<Response [200]> What Is Love Orchestrion Roll\n",
      "Done!\n",
      "<Response [200]> By Design Orchestrion Roll\n",
      "Done!\n",
      "<Response [200]> Freedom Orchestrion Roll\n",
      "Done!\n",
      "<Response [200]> A Better Tomorrow Orchestrion Roll\n",
      "Done!\n",
      "<Response [200]> Frontier Cloth\n",
      "Done!\n"
     ]
    }
   ],
   "source": [
    "import requests\n",
    "import json\n",
    "from datetime import datetime\n",
    "import csv\n",
    "import asyncio\n",
    "\n",
    "\n",
    "def jprint(obj):\n",
    "    # create a formatted string of the Python JSON object\n",
    "    text = json.dumps(obj, sort_keys=True, indent=4)\n",
    "    print(text)\n",
    "# Fetching x number of entries\n",
    "parameters = {\n",
    "    'entries' : '999999' \n",
    "}\n",
    "worldOrDc = 'Kujata'\n",
    "# item\n",
    "item_response = requests.get('https://universalis.app/api/marketable')\n",
    "data_items= item_response.json()\n",
    "\n",
    "for item_ID in data_items[12092:]:\n",
    "    while True:\n",
    "        try:\n",
    "            response = requests.get(f\"https://universalis.app/api/history/{worldOrDc}/{item_ID}\", params=parameters)\n",
    "            data = response.json()['entries']\n",
    "            item_name_request = requests.get(f'https://xivapi.com/item/{item_ID}?private_key=a4cdd78047ac412683176560175bd7b141c4c3e9cd60424491ee8cc3c8d1b89e')\n",
    "            item_name = item_name_request.json()['Name'].replace('?', '')\n",
    "            csvheader = ['RAW TIMESTAMP', 'TIMESTAMP', 'HQ', ' PRICE PER ITEM', 'QUANTITY']\n",
    "            rows = []\n",
    "            for sales_history in data:\n",
    "                raw_time = sales_history['timestamp']\n",
    "                time = datetime.fromtimestamp(sales_history['timestamp'])\n",
    "                hq = sales_history['hq']\n",
    "                price = sales_history['pricePerUnit']\n",
    "                quantity = sales_history['quantity']\n",
    "                rows.append([raw_time, time, hq, price, quantity])\n",
    "            \n",
    "            print(item_name_request,item_name)\n",
    "\n",
    "            with open(f'./items/{item_name}.csv' ,'w',encoding='UTF8',newline='') as f:\n",
    "                writer = csv.writer(f)\n",
    "\n",
    "                writer.writerow(csvheader)\n",
    "                writer.writerows(rows)\n",
    "\n",
    "            print(\"Done!\")\n",
    "        except Exception as e:\n",
    "            print(e)\n",
    "            continue\n",
    "            time.sleep(2)\n",
    "        break"
   ]
  },
  {
   "cell_type": "code",
   "execution_count": null,
   "id": "3854b001",
   "metadata": {},
   "outputs": [],
   "source": []
  }
 ],
 "metadata": {
  "kernelspec": {
   "display_name": "tensorflow",
   "language": "python",
   "name": "tensorflow"
  },
  "language_info": {
   "codemirror_mode": {
    "name": "ipython",
    "version": 3
   },
   "file_extension": ".py",
   "mimetype": "text/x-python",
   "name": "python",
   "nbconvert_exporter": "python",
   "pygments_lexer": "ipython3",
   "version": "3.9.12"
  }
 },
 "nbformat": 4,
 "nbformat_minor": 5
}
